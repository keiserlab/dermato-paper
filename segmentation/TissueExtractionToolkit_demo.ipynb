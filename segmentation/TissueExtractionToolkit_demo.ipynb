{
 "cells": [
  {
   "cell_type": "markdown",
   "id": "564a3fce-294a-4b9b-b518-9fcfc41177d0",
   "metadata": {},
   "source": [
    "# Segment HE-IHC paired tissues"
   ]
  },
  {
   "cell_type": "code",
   "execution_count": null,
   "id": "935f8283-6768-4541-b627-9bcf5a9df30a",
   "metadata": {},
   "outputs": [],
   "source": [
    "# Jupyter Display\n",
    "from IPython.core.display import display,HTML\n",
    "display(HTML(\"<style>.container {width:85% !important;} </style>\"))\n",
    "\n",
    "import os,sys\n",
    "\n",
    "# Custom Functions\n",
    "from wsi_segmenter_widget import SegmentationWidget"
   ]
  },
  {
   "cell_type": "code",
   "execution_count": null,
   "id": "c4ca9fce-30c3-41a1-9702-799868c6b058",
   "metadata": {},
   "outputs": [],
   "source": [
    "HE_IHC_WSIs_DIR = '...'\n",
    "# this direcotry contains pairs of HE and IHC WSI "
   ]
  },
  {
   "cell_type": "markdown",
   "id": "edacb8fd-ff74-444b-8f4a-cc781c4eed75",
   "metadata": {},
   "source": [
    "## Segmenter "
   ]
  },
  {
   "cell_type": "code",
   "execution_count": null,
   "id": "7a86398a-bdb9-4c6d-b6cd-9963a9a78deb",
   "metadata": {},
   "outputs": [],
   "source": [
    "segmenter = SegmentationWidget(default_dir=HE_IHC_WSIs_DIR, load_params=None)"
   ]
  }
 ],
 "metadata": {
  "kernelspec": {
   "display_name": "wsi_pipeline",
   "language": "python",
   "name": "wsi_pipeline"
  },
  "language_info": {
   "codemirror_mode": {
    "name": "ipython",
    "version": 3
   },
   "file_extension": ".py",
   "mimetype": "text/x-python",
   "name": "python",
   "nbconvert_exporter": "python",
   "pygments_lexer": "ipython3",
   "version": "3.10.9"
  }
 },
 "nbformat": 4,
 "nbformat_minor": 5
}
